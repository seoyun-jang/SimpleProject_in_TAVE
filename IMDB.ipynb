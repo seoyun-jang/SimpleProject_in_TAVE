{
  "nbformat": 4,
  "nbformat_minor": 0,
  "metadata": {
    "colab": {
      "name": "imdb(binary classification using artificial neural network).ipynb",
      "version": "0.3.2",
      "provenance": [],
      "collapsed_sections": []
    },
    "kernelspec": {
      "name": "python3",
      "display_name": "Python 3"
    },
    "accelerator": "GPU"
  },
  "cells": [
    {
      "metadata": {
        "id": "_81QHiD8FfzD",
        "colab_type": "code",
        "outputId": "f429bab8-85fc-41c5-d280-b59ee65a7cee",
        "colab": {
          "base_uri": "https://localhost:8080/",
          "height": 34
        }
      },
      "cell_type": "code",
      "source": [
        "from keras.datasets import imdb\n",
        "# keras에 내장된 데이터 imdb를 불러온다.\n",
        "# imdb 는 영화평가에 대한 데이터이다. 영화에 대한 감상문이 단어별로 쪼개져 있고 그 영화가 긍정적이었는지 부정적이었는지 명시되어있다.\n",
        "# # label에서 1은 긍정(positive) 0은 부정(negative)를 뜻한다."
      ],
      "execution_count": 0,
      "outputs": [
        {
          "output_type": "stream",
          "text": [
            "Using TensorFlow backend.\n"
          ],
          "name": "stderr"
        }
      ]
    },
    {
      "metadata": {
        "id": "vvW_fiNBFkdB",
        "colab_type": "code",
        "colab": {}
      },
      "cell_type": "code",
      "source": [
        "(train_data, train_labels), (test_data, test_labels) = imdb.load_data(num_words = 10000)\n",
        "# 여기서 num_words = 10000은 단어를 최빈순으로 정렬했을 때 10000번째 순위까지만 고려하겠다는 의미이다."
      ],
      "execution_count": 0,
      "outputs": []
    },
    {
      "metadata": {
        "id": "xOc9gc6GF16O",
        "colab_type": "code",
        "colab": {}
      },
      "cell_type": "code",
      "source": [
        "import numpy as np\n",
        "# numpy 배열을 사용하기 위해 np로 불러들였다."
      ],
      "execution_count": 0,
      "outputs": []
    },
    {
      "metadata": {
        "id": "3GKFiGTdF43e",
        "colab_type": "code",
        "colab": {}
      },
      "cell_type": "code",
      "source": [
        "def vectorize_sequences(sequences, dimension = 10000):\n",
        "  results = np.zeros((len(sequences), dimension))\n",
        "  for i, sequences in enumerate(sequences):\n",
        "    results[i, sequences] = 1\n",
        "  return results\n",
        "# 훈련데이터의 배열이 원하는 모양이 아니므로 원하는 모양으로 만들어주는 함수 vectorize_sequences를 정의했다."
      ],
      "execution_count": 0,
      "outputs": []
    },
    {
      "metadata": {
        "id": "mEBtbylgGy7B",
        "colab_type": "code",
        "colab": {}
      },
      "cell_type": "code",
      "source": [
        "x_train = vectorize_sequences(train_data)\n",
        "x_test = vectorize_sequences(test_data)\n",
        "# 위에서 정의한 함수를 이용하여 데이터를 원하는 모양으로 만들었다."
      ],
      "execution_count": 0,
      "outputs": []
    },
    {
      "metadata": {
        "id": "vHg1nuK4G-Xz",
        "colab_type": "code",
        "colab": {}
      },
      "cell_type": "code",
      "source": [
        "y_train = np.array(train_labels).astype('float32')\n",
        "y_test = np.array(test_labels).astype('float32')\n",
        "# lable 데이터도 원하는 모양으로 만들었다."
      ],
      "execution_count": 0,
      "outputs": []
    },
    {
      "metadata": {
        "id": "VcfUmn7ZH5Gn",
        "colab_type": "code",
        "colab": {}
      },
      "cell_type": "code",
      "source": [
        "from keras import models\n",
        "from keras import layers\n",
        "# keras에 내장된 models과 layers를 불러들였다."
      ],
      "execution_count": 0,
      "outputs": []
    },
    {
      "metadata": {
        "id": "cte3MBMsIBNV",
        "colab_type": "code",
        "colab": {}
      },
      "cell_type": "code",
      "source": [
        "model = models.Sequential()\n",
        "model.add(layers.Dense(16, activation = 'relu', input_shape = (10000,)))\n",
        "model.add(layers.Dense(16, activation = 'relu'))\n",
        "model.add(layers.Dense(1, activation = 'sigmoid'))\n",
        "model.compile(optimizer = 'adam', loss = 'binary_crossentropy', metrices = ['accuracy'])\n",
        "# model 메소드를 이요하여 노드가 16개인 층 2개를 만들었고 마지막 결과는 시그모이드를 통과하도록 인공신경망을 구축하였다.\n",
        "# 최적화 방법은 adam 을 사용하였다."
      ],
      "execution_count": 0,
      "outputs": []
    },
    {
      "metadata": {
        "id": "SmJJqTZBIunP",
        "colab_type": "code",
        "colab": {}
      },
      "cell_type": "code",
      "source": [
        "x_val = x_train[:10000]\n",
        "partial_x_train = x_train[10000:]\n",
        "y_val = y_train[:10000]\n",
        "partial_y_train = y_train[10000:]"
      ],
      "execution_count": 0,
      "outputs": []
    },
    {
      "metadata": {
        "id": "E-90wNU2LrFZ",
        "colab_type": "code",
        "colab": {}
      },
      "cell_type": "code",
      "source": [
        "from keras import optimizers, losses, metrics"
      ],
      "execution_count": 0,
      "outputs": []
    },
    {
      "metadata": {
        "id": "7SxaLfTIQSB2",
        "colab_type": "code",
        "colab": {}
      },
      "cell_type": "code",
      "source": [
        "model.compile(optimizer = optimizers.Adam(lr=0.001), loss = losses.binary_crossentropy, metrics = [metrics.binary_accuracy])\n",
        "# 인공신경망의 매개변수를 훈련시키기 위해 Adam 방법으로 최적화를 진행했다."
      ],
      "execution_count": 0,
      "outputs": []
    },
    {
      "metadata": {
        "id": "-9lT1HDjR5wN",
        "colab_type": "text"
      },
      "cell_type": "markdown",
      "source": [
        ""
      ]
    },
    {
      "metadata": {
        "id": "COvG4CKhOeKJ",
        "colab_type": "code",
        "outputId": "c2a82045-0f04-4d83-ccc7-9c8663a3fb3b",
        "colab": {
          "base_uri": "https://localhost:8080/",
          "height": 706
        }
      },
      "cell_type": "code",
      "source": [
        "history = model.fit(partial_x_train, partial_y_train, epochs = 20, batch_size = 512, validation_data = (x_val, y_val))\n",
        "# 매개변수가 튜닝된 인공신경망의 성능 평가를 위해 총 에폭 수를 20으로 설정했다. "
      ],
      "execution_count": 0,
      "outputs": [
        {
          "output_type": "stream",
          "text": [
            "Train on 15000 samples, validate on 10000 samples\n",
            "Epoch 1/20\n",
            "15000/15000 [==============================] - 2s 161us/step - loss: 0.5612 - binary_accuracy: 0.7579 - val_loss: 0.4055 - val_binary_accuracy: 0.8556\n",
            "Epoch 2/20\n",
            "15000/15000 [==============================] - 1s 98us/step - loss: 0.2999 - binary_accuracy: 0.9001 - val_loss: 0.2932 - val_binary_accuracy: 0.8877\n",
            "Epoch 3/20\n",
            "15000/15000 [==============================] - 1s 98us/step - loss: 0.1970 - binary_accuracy: 0.9336 - val_loss: 0.2769 - val_binary_accuracy: 0.8896\n",
            "Epoch 4/20\n",
            "15000/15000 [==============================] - 1s 98us/step - loss: 0.1429 - binary_accuracy: 0.9533 - val_loss: 0.2877 - val_binary_accuracy: 0.8868\n",
            "Epoch 5/20\n",
            "15000/15000 [==============================] - 1s 98us/step - loss: 0.1062 - binary_accuracy: 0.9694 - val_loss: 0.3051 - val_binary_accuracy: 0.8840\n",
            "Epoch 6/20\n",
            "15000/15000 [==============================] - 1s 99us/step - loss: 0.0785 - binary_accuracy: 0.9806 - val_loss: 0.3305 - val_binary_accuracy: 0.8825\n",
            "Epoch 7/20\n",
            "15000/15000 [==============================] - 1s 99us/step - loss: 0.0574 - binary_accuracy: 0.9891 - val_loss: 0.3594 - val_binary_accuracy: 0.8801\n",
            "Epoch 8/20\n",
            "15000/15000 [==============================] - 1s 100us/step - loss: 0.0410 - binary_accuracy: 0.9932 - val_loss: 0.3901 - val_binary_accuracy: 0.8791\n",
            "Epoch 9/20\n",
            "15000/15000 [==============================] - 1s 100us/step - loss: 0.0294 - binary_accuracy: 0.9966 - val_loss: 0.4196 - val_binary_accuracy: 0.8770\n",
            "Epoch 10/20\n",
            "15000/15000 [==============================] - 1s 99us/step - loss: 0.0208 - binary_accuracy: 0.9985 - val_loss: 0.4518 - val_binary_accuracy: 0.8738\n",
            "Epoch 11/20\n",
            "15000/15000 [==============================] - 1s 99us/step - loss: 0.0147 - binary_accuracy: 0.9996 - val_loss: 0.4788 - val_binary_accuracy: 0.8727\n",
            "Epoch 12/20\n",
            "15000/15000 [==============================] - 1s 99us/step - loss: 0.0109 - binary_accuracy: 0.9998 - val_loss: 0.5001 - val_binary_accuracy: 0.8734\n",
            "Epoch 13/20\n",
            "15000/15000 [==============================] - 1s 99us/step - loss: 0.0084 - binary_accuracy: 0.9999 - val_loss: 0.5230 - val_binary_accuracy: 0.8733\n",
            "Epoch 14/20\n",
            "15000/15000 [==============================] - 1s 99us/step - loss: 0.0065 - binary_accuracy: 0.9999 - val_loss: 0.5416 - val_binary_accuracy: 0.8720\n",
            "Epoch 15/20\n",
            "15000/15000 [==============================] - 1s 99us/step - loss: 0.0052 - binary_accuracy: 0.9999 - val_loss: 0.5589 - val_binary_accuracy: 0.8715\n",
            "Epoch 16/20\n",
            "15000/15000 [==============================] - 1s 98us/step - loss: 0.0043 - binary_accuracy: 0.9999 - val_loss: 0.5734 - val_binary_accuracy: 0.8716\n",
            "Epoch 17/20\n",
            "15000/15000 [==============================] - 1s 98us/step - loss: 0.0036 - binary_accuracy: 0.9999 - val_loss: 0.5878 - val_binary_accuracy: 0.8708\n",
            "Epoch 18/20\n",
            "15000/15000 [==============================] - 1s 99us/step - loss: 0.0031 - binary_accuracy: 0.9999 - val_loss: 0.6025 - val_binary_accuracy: 0.8702\n",
            "Epoch 19/20\n",
            "15000/15000 [==============================] - 1s 99us/step - loss: 0.0027 - binary_accuracy: 0.9999 - val_loss: 0.6146 - val_binary_accuracy: 0.8705\n",
            "Epoch 20/20\n",
            "15000/15000 [==============================] - 1s 100us/step - loss: 0.0023 - binary_accuracy: 0.9999 - val_loss: 0.6268 - val_binary_accuracy: 0.8695\n"
          ],
          "name": "stdout"
        }
      ]
    },
    {
      "metadata": {
        "id": "NUAf5RBIVvg2",
        "colab_type": "code",
        "colab": {}
      },
      "cell_type": "code",
      "source": [
        "import matplotlib.pyplot as plt"
      ],
      "execution_count": 0,
      "outputs": []
    },
    {
      "metadata": {
        "id": "j0dcED0PVSrd",
        "colab_type": "code",
        "outputId": "0fef6226-155f-4961-f929-3831a4205d09",
        "colab": {
          "base_uri": "https://localhost:8080/",
          "height": 393
        }
      },
      "cell_type": "code",
      "source": [
        "history_dict = history.history\n",
        "loss = history_dict['loss']\n",
        "val_loss = history_dict['val_loss']\n",
        "\n",
        "epochs = range(1, len(loss) + 1)\n",
        "\n",
        "plt.plot(epochs, loss, 'bo', label = 'training loss')\n",
        "plt.plot(epochs, val_loss, 'b', label = 'Validation loss')\n",
        "plt.title(\"Training and Validation loss\")\n",
        "plt.xlabel(\"Epochs\")\n",
        "plt.ylabel(\"Loss\")\n",
        "plt.legend()\n",
        "plt.show\n",
        "# 실행결과를 그래프로 그려서 확인해보았다.\n",
        "# 2.5 에폭까지 Validation loss 가 감소하다가 이후 증가하기 시작했다. 이는 인공신경망이 overfitting 되어간다는 것을 의미한다.\n",
        "# 이러한 overfitting 현상을 방지하기 위해 정규화, 가중치감소, 드롭아웃 등의 기법이 필요하다는 것을 알게 되었다.\n"
      ],
      "execution_count": 0,
      "outputs": [
        {
          "output_type": "execute_result",
          "data": {
            "text/plain": [
              "<function matplotlib.pyplot.show>"
            ]
          },
          "metadata": {
            "tags": []
          },
          "execution_count": 14
        },
        {
          "output_type": "display_data",
          "data": {
            "image/png": "[encoded data removed]",
            "text/plain": [
              "<matplotlib.figure.Figure at 0x7f37fd6457b8>"
            ]
          },
          "metadata": {
            "tags": []
          }
        }
      ]
    },
    {
      "metadata": {
        "id": "WRL_QWriXNRG",
        "colab_type": "code",
        "colab": {}
      },
      "cell_type": "code",
      "source": [
        ""
      ],
      "execution_count": 0,
      "outputs": []
    }
  ]
}