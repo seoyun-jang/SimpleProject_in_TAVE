{
  "nbformat": 4,
  "nbformat_minor": 0,
  "metadata": {
    "colab": {
      "name": "boston housing.ipynb",
      "version": "0.3.2",
      "provenance": [],
      "collapsed_sections": []
    },
    "kernelspec": {
      "name": "python3",
      "display_name": "Python 3"
    },
    "accelerator": "GPU"
  },
  "cells": [
    {
      "metadata": {
        "id": "FNTLKKBUVBIV",
        "colab_type": "text"
      },
      "cell_type": "markdown",
      "source": [
        ""
      ]
    },
    {
      "metadata": {
        "id": "ZWnSchvrVN2D",
        "colab_type": "text"
      },
      "cell_type": "markdown",
      "source": [
        "보스턴 주택 가격 data set\n",
        "보스턴 교외의 주택 평균 가격을 예측하려고 합니다\n",
        "1970년대 중반, 범죄율, 지방 재산세율 등 사용할 데이터셋에는 흥미로운 차이점이 있습니다.\n",
        "이전의 두 예에서 데이터 포인트가 상대적으로 적습니다. 506개만 분할됩니다.\n",
        "404개의 교육용 샘플과 102개의 테스트 샘플 사이에 있습니다. 그리고 입력 데이터의 각 기능\n",
        "(예를 들어, 범죄율)은 크기가 다릅니다. 예를 들어, 일부 값은 비율입니다.\n",
        "0과 1 사이의 값을 갖는 것, 1과 12 사이의 값을 갖는 것\n",
        "0~100사이 등등"
      ]
    },
    {
      "metadata": {
        "id": "y3lNfvpLVBHk",
        "colab_type": "text"
      },
      "cell_type": "markdown",
      "source": [
        "boston_housing data를 20번 훈련시키자."
      ]
    },
    {
      "metadata": {
        "id": "RQV1NRztcBkA",
        "colab_type": "code",
        "colab": {
          "base_uri": "https://localhost:8080/",
          "height": 34
        },
        "outputId": "a2ca4fe3-6119-4b06-bcf4-c6121686ca31"
      },
      "cell_type": "code",
      "source": [
        "from keras.datasets import boston_housing"
      ],
      "execution_count": 1,
      "outputs": [
        {
          "output_type": "stream",
          "text": [
            "Using TensorFlow backend.\n"
          ],
          "name": "stderr"
        }
      ]
    },
    {
      "metadata": {
        "id": "7QpqdxkscKtE",
        "colab_type": "code",
        "colab": {}
      },
      "cell_type": "code",
      "source": [
        "(train_data, train_targets), (test_data, test_targets) = boston_housing.load_data()"
      ],
      "execution_count": 0,
      "outputs": []
    },
    {
      "metadata": {
        "id": "7Ltgd_qUYBPs",
        "colab_type": "text"
      },
      "cell_type": "markdown",
      "source": [
        "시험 데이터의 정규화에 사용되는 수량은\n",
        "교육 자료 작업흐름에서 계산한 수량을 사용해서는 안 됩니다.\n",
        "테스트 데이터, 심지어 데이터 정규화 같은 간단한 데이터도 마찬가지입니다."
      ]
    },
    {
      "metadata": {
        "id": "7Hbc2QH5cWeA",
        "colab_type": "code",
        "colab": {}
      },
      "cell_type": "code",
      "source": [
        "mean = train_data.mean(axis = 0)\n",
        "train_data -= mean\n",
        "std = train_data.std(axis = 0)\n",
        "train_data /= std\n",
        "\n",
        "test_data -= mean\n",
        "test_data /= std"
      ],
      "execution_count": 0,
      "outputs": []
    },
    {
      "metadata": {
        "id": "aqBEKglHXfHx",
        "colab_type": "text"
      },
      "cell_type": "markdown",
      "source": [
        "모든 것이 완전히 다른 신경 네트워크 값을 입력하는 것은 문제가 될 수 있다.\n",
        "네트워크는 이러한 이기종 ( heterogeneous)에 자동으로 적응할 수 있습니다.\n",
        "하지만 그것은 분명히 학습을 더 어렵게 만들 것이다. 광범위한 모범 사례\n",
        "이러한 데이터를 처리하는 것은 기능별 정규화를 수행하는 것이다.\n",
        "데이터(입력 데이터 행렬의 열), 형상의 평균을 뺀다.\n",
        "표준 편차로 나누어서 형상이 0 주위에 중심에 있고\n",
        "단위 표준 편차 이것은 Numpy에서 쉽게 할 수 있다."
      ]
    },
    {
      "metadata": {
        "id": "fh2ypCRacrW0",
        "colab_type": "code",
        "colab": {}
      },
      "cell_type": "code",
      "source": [
        "from keras import models\n",
        "from keras import layers"
      ],
      "execution_count": 0,
      "outputs": []
    },
    {
      "metadata": {
        "id": "QzdWd8kpYuov",
        "colab_type": "text"
      },
      "cell_type": "markdown",
      "source": [
        "네트워크 구축\n",
        "매우 적은 수의 샘플을 사용할 수 있으므로, 두 개의 숨겨진 네트워크가 있는 매우 작은 네트워크를 사용할 수 있습니다.\n",
        "각 레이어는 64개 유닛으로 구성됩니다. 일반적으로 교육 데이터가 적을수록\n",
        "작은 네트워크를 사용하는 것이 오버피팅을 완화하는 한 가지 방법입니다."
      ]
    },
    {
      "metadata": {
        "id": "mS3OUFUNcuL0",
        "colab_type": "code",
        "colab": {}
      },
      "cell_type": "code",
      "source": [
        "def build_model():\n",
        "  model = models.Sequential()\n",
        "  model.add(layers.Dense(64, activation = 'relu',\n",
        "                         input_shape = (train_data.shape[1],)))\n",
        "  model.add(layers.Dense(64, activation = 'relu'))\n",
        "  model.add(layers.Dense(1))\n",
        "  model.compile(optimizer = 'adam', loss = 'mse', metrics = ['mae'])\n",
        "  return model"
      ],
      "execution_count": 0,
      "outputs": []
    },
    {
      "metadata": {
        "id": "VHSW21HDZ3dB",
        "colab_type": "text"
      },
      "cell_type": "markdown",
      "source": [
        "네트워크는 단일 장치로 종료되고 활성화되지 않습니다(선형 레이어가 됨). 이것은\n",
        "스칼라 회귀 분석을 위한 일반적인 설정(하나의 스칼라 회귀 분석)\n",
        "지속적 가치 활성화 기능을 적용하면 출력 범위를 제한합니다.\n",
        "예를 들어 마지막 계층에 Sigmoid 활성화 기능을 적용한 경우\n",
        "네트워크는 0과 1 사이의 값만 예측할 수 있었습니다. 자, 마지막\n",
        "계층은 순수하게 선형이고, 네트워크는 어떤 범위의 값들을 예측하는 것을 배우는데 자유롭다.\n",
        "네트워크를 mse 손실 함수(평균 제곱 오류),\n",
        "예측과 목표 사이의 차이 제곱 이것은 널리 퍼져있다.\n",
        "회귀 문제에 사용되는 손실 함수입니다.\n",
        "또한 교육 중에 새 메트릭스(평균 절대 오류(MAE)도 모니터링합니다. 그것은\n",
        "예측과 목표 사이의 차이에 대한 절대값 위해서\n",
        "예를 들어, 이 문제에 대해 MAE가 0.5이면 예측이 500달러까지 빗나가게 됩니다.\n",
        "보통, 대개, 대략"
      ]
    },
    {
      "metadata": {
        "id": "ieo1xINndSEw",
        "colab_type": "code",
        "colab": {}
      },
      "cell_type": "code",
      "source": [
        "import numpy as np"
      ],
      "execution_count": 0,
      "outputs": []
    },
    {
      "metadata": {
        "id": "Tzc4gKkYaAR_",
        "colab_type": "text"
      },
      "cell_type": "markdown",
      "source": [
        "K-폴드 검증을 사용하여 접근 검증\n",
        "매개변수(예: 숫자)를 조정하는 동안 네트워크를 평가하려면\n",
        "교육에 사용된 시대), 데이터를 교육 세트 및 검증 세트로 분할할 수 있습니다.\n",
        "이전 예에서와 같이 설정. 하지만 데이터 포인트가 너무 적어서\n",
        "검증 집합은 결국 매우 작아집니다(예: 약 100개의 예).\n",
        "그 결과, 검증 점수는 어떤 데이터에 따라 크게 달라질 수 있습니다.\n",
        "유효성 검사에 사용하도록 선택한 점과 교육용으로 선택한 점: 유효성 검사\n",
        "점수는 유효성 분할과 관련하여 높은 차이를 보일 수 있다. 이렇게 하면 방지할 수 있습니다.\n",
        "당신은 당신의 모델을 신뢰성 있게 평가하지 않는다.\n",
        "이러한 상황에서 가장 좋은 방법은 K-폴 교차 검증을 사용하는 것이다(그림 3.11 참조).\n",
        "사용 가능한 데이터를 K 파티션(일반적으로 K = 4 또는 5)으로 분할하여 인스턴스화합니다.\n",
        "K 동일 모델 및 K – 1개 파티션에서 각각 평가\n",
        "나머지 칸막이 사용된 모델의 유효성 점수는\n",
        "K 검증 점수 코드 측면에서 이것은 간단하다."
      ]
    },
    {
      "metadata": {
        "id": "hgd7twT_dTLz",
        "colab_type": "code",
        "colab": {
          "base_uri": "https://localhost:8080/",
          "height": 84
        },
        "outputId": "ea1c61c8-a6a1-41d5-9222-851b7a156b5d"
      },
      "cell_type": "code",
      "source": [
        "k = 4\n",
        "num_val_samples = len(train_data) // k\n",
        "num_epochs = 100\n",
        "all_scores = []\n",
        "for i in range(k):\n",
        "  print('처리중인 폴드 #', i)\n",
        "  val_data = train_data[i*num_val_samples: (i+1) * num_val_samples]\n",
        "  val_targets = train_targets[i * num_val_samples: (i+1) * num_val_samples]\n",
        "  \n",
        "  partial_train_data = np.concatenate(\n",
        "      [train_data[:i*num_val_samples],\n",
        "       train_data[(i+1)*num_val_samples:]],\n",
        "      axis = 0)\n",
        "  partial_train_targets = np.concatenate(\n",
        "      [train_targets[:i*num_val_samples],\n",
        "       train_targets[(i+1)*num_val_samples:]],\n",
        "      axis = 0)\n",
        "  \n",
        "  model = build_model()\n",
        "  model.fit(partial_train_data, partial_train_targets, \n",
        "            epochs = num_epochs, batch_size = 1, verbose = 0)\n",
        "  val_mse, val_mae = model.evaluate(val_data, val_targets, verbose = 0)\n",
        "  all_scores.append(val_mae)"
      ],
      "execution_count": 7,
      "outputs": [
        {
          "output_type": "stream",
          "text": [
            "처리중인 폴드 # 0\n",
            "처리중인 폴드 # 1\n",
            "처리중인 폴드 # 2\n",
            "처리중인 폴드 # 3\n"
          ],
          "name": "stdout"
        }
      ]
    },
    {
      "metadata": {
        "id": "c968Kngff8Fs",
        "colab_type": "code",
        "outputId": "f3494f92-06a8-4e8e-efe7-72dd4c0c5c2d",
        "colab": {
          "base_uri": "https://localhost:8080/",
          "height": 84
        }
      },
      "cell_type": "code",
      "source": [
        "num_epoch = 500\n",
        "all_mae_histories = []\n",
        "for i in range(k):\n",
        "  print('처리중인 폴드 #', i)\n",
        "  val_data = train_data[i*num_val_samples: (i+1) * num_val_samples]\n",
        "  val_targets = train_targets[i * num_val_samples: (i+1) * num_val_samples]\n",
        "  \n",
        "  partial_train_data = np.concatenate(\n",
        "      [train_data[:i*num_val_samples],\n",
        "       train_data[(i + 1) * num_val_samples:]], \n",
        "      axis = 0)\n",
        "  \n",
        "  partial_train_targets = np.concatenate([train_targets[:i*num_val_samples],train_targets[(i+1)*num_val_samples:]], axis = 0)\n",
        "  \n",
        "  model = build_model()\n",
        "  history = model.fit(partial_train_data, partial_train_targets, validation_data = (val_data, val_targets), epochs = num_epochs, batch_size = 1, verbose = 0)\n",
        "  \n",
        "  mae_history = history.history['val_mean_absolute_error']\n",
        "  all_mae_histories.append(mae_history)\n",
        "  \n",
        " "
      ],
      "execution_count": 8,
      "outputs": [
        {
          "output_type": "stream",
          "text": [
            "처리중인 폴드 # 0\n",
            "처리중인 폴드 # 1\n",
            "처리중인 폴드 # 2\n",
            "처리중인 폴드 # 3\n"
          ],
          "name": "stdout"
        }
      ]
    },
    {
      "metadata": {
        "id": "7OfsixXPNla_",
        "colab_type": "code",
        "colab": {}
      },
      "cell_type": "code",
      "source": [
        "average_mae_history = [\n",
        "    np.mean([x[i] for x in all_mae_histories]) for i in range(num_epochs)]"
      ],
      "execution_count": 0,
      "outputs": []
    },
    {
      "metadata": {
        "id": "lfL7wXPpdPpK",
        "colab_type": "code",
        "colab": {
          "base_uri": "https://localhost:8080/",
          "height": 361
        },
        "outputId": "e8dafee1-e9ee-4018-9313-f07f390b08c3"
      },
      "cell_type": "code",
      "source": [
        "import matplotlib.pyplot as plt\n",
        "\n",
        "plt.plot(range(1, len(average_mae_history) + 1), average_mae_history)\n",
        "plt.xlabel(\"Epochs\")\n",
        "plt.ylabel(\"Validation MAE\")\n",
        "plt.show()"
      ],
      "execution_count": 10,
      "outputs": [
        {
          "output_type": "display_data",
          "data": {
            "image/png": "[encoded data removed]",
            "text/plain": [
              "<matplotlib.figure.Figure at 0x7f519be36908>"
            ]
          },
          "metadata": {
            "tags": []
          }
        }
      ]
    },
    {
      "metadata": {
        "id": "CRQYReKaiNfM",
        "colab_type": "code",
        "outputId": "d5b2428d-27ab-4653-86d4-ac6d7bff2694",
        "colab": {
          "base_uri": "https://localhost:8080/",
          "height": 361
        }
      },
      "cell_type": "code",
      "source": [
        "def smooth_curve(points, factor = 0.9):\n",
        "  smoothed_points = []\n",
        "  for point in points:\n",
        "    if smoothed_points:\n",
        "      previous = smoothed_points[-1]\n",
        "      smoothed_points.append(previous * factor + point * (1-factor))\n",
        "    else:\n",
        "      smoothed_points.append(point)\n",
        "  return smoothed_points\n",
        "\n",
        "smooth_mae_history = smooth_curve(average_mae_history[10:])\n",
        "\n",
        "plt.plot(range(1, len(smooth_mae_history) + 1), smooth_mae_history)\n",
        "plt.xlabel(\"Epochs\")\n",
        "plt.ylabel(\"Validation MAE\")\n",
        "plt.show()\n"
      ],
      "execution_count": 12,
      "outputs": [
        {
          "output_type": "display_data",
          "data": {
            "image/png": "[encoded data removed]",
            "text/plain": [
              "<matplotlib.figure.Figure at 0x7f51938b3978>"
            ]
          },
          "metadata": {
            "tags": []
          }
        }
      ]
    }
  ]
}